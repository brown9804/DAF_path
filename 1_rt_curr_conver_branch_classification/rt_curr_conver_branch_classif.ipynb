{
 "cells": [
  {
   "cell_type": "markdown",
   "metadata": {},
   "source": [
    "# Real Time Currency Conversion Branching Classification "
   ]
  },
  {
   "cell_type": "markdown",
   "metadata": {},
   "source": [
    "Costa Rica\n",
    "\n",
    "Belinda Brown, belindabrownr04@gmail.com\n",
    "\n",
    "[![GitHub](https://badgen.net/badge/icon/github?icon=github&label)](https://github.com) [brown9804](https://github.com/brown9804)\n",
    "\n",
    "Jan, 2021"
   ]
  },
  {
   "cell_type": "markdown",
   "metadata": {},
   "source": [
    "## Import packages "
   ]
  },
  {
   "cell_type": "code",
   "execution_count": null,
   "metadata": {},
   "outputs": [],
   "source": [
    "!pip install prettytable\n",
    "!pip install tkinter\n",
    "!pip install requests"
   ]
  },
  {
   "cell_type": "code",
   "execution_count": 2,
   "metadata": {},
   "outputs": [],
   "source": [
    "import os\n",
    "import glob\n",
    "import logging\n",
    "import sys\n",
    "import pandas as pd\n",
    "import numpy as np\n",
    "import openpyxl\n",
    "from tqdm import tqdm\n",
    "from datetime import date\n",
    "import matplotlib.pyplot as plt  \n",
    "import sklearn\n",
    "from sklearn import preprocessing\n",
    "from sklearn import metrics\n",
    "from azureml.core import Workspace, Dataset\n",
    "import time\n",
    "import prettytable\n",
    "import requests\n",
    "from tkinter import *\n",
    "import tkinter as tk\n",
    "from tkinter import ttk"
   ]
  },
  {
   "cell_type": "markdown",
   "metadata": {},
   "source": [
    "## Functions Definitions"
   ]
  },
  {
   "cell_type": "code",
   "execution_count": 3,
   "metadata": {},
   "outputs": [],
   "source": [
    "def xcolumnlookup(lookup_value, lookup_array, return_array, if_not_found:str = ''):\n",
    "    match_value = return_array.loc[lookup_array == lookup_value]\n",
    "    if match_value.empty:\n",
    "        return \"Not Found\" if if_not_found == '' else if_not_found\n",
    "\n",
    "    else:\n",
    "        return match_value.tolist()[0]"
   ]
  },
  {
   "cell_type": "code",
   "execution_count": 4,
   "metadata": {},
   "outputs": [],
   "source": [
    "def filter_unique(dataframe, column, newcolumn):\n",
    "    count_unique = 0\n",
    "    output_df = pd.DataFrame()\n",
    "    dataframe = dataframe[column]\n",
    "    print(\"Total of items: \", len(dataframe))\n",
    "    # using set()\n",
    "    # to remove duplicated \n",
    "    # from list \n",
    "    output_df = list(set(dataframe))\n",
    "    count_unique = len(output_df)\n",
    "    print(\"Unique items: \", count_unique)\n",
    "    unique_column = pd.Series(output_df,name=newcolumn)\n",
    "    return output_df, count_unique, unique_column"
   ]
  },
  {
   "cell_type": "code",
   "execution_count": 5,
   "metadata": {},
   "outputs": [],
   "source": [
    "def snapshot_by_equalcondition(source_df, column_name, condition):\n",
    "    snapshot_df = source_df.loc[source_df[column_name] == condition]\n",
    "    return snapshot_df"
   ]
  },
  {
   "cell_type": "code",
   "execution_count": 6,
   "metadata": {},
   "outputs": [],
   "source": [
    "def mapping_data(dataframe):\n",
    "    head = pd.DataFrame(dataframe.iloc[:3])\n",
    "    display(head)\n",
    "    \n",
    "    output = {}\n",
    "    output['Column Names'] = dataframe.columns.values.tolist()\n",
    "    pd.set_option('display.max_colwidth', -1)\n",
    "    column_names = pd.DataFrame(data=output)\n",
    "    display(column_names)\n",
    "    \n",
    "    output = {}\n",
    "    output['Data Types'] = dataframe.dtypes\n",
    "    pd.set_option('display.max_colwidth', -1) \n",
    "    column_dtypes = pd.DataFrame(data=output)\n",
    "    display(column_dtypes)\n",
    "    \n",
    "    output = {}\n",
    "    output['Null Values'] = dataframe.isna().sum()  # #  Is null # this is to validate the amount of rows within a columns that carry information\n",
    "    pd.set_option('display.max_colwidth', -1) \n",
    "    null_values = pd.DataFrame(data=output)\n",
    "    display(null_values)"
   ]
  },
  {
   "cell_type": "code",
   "execution_count": 7,
   "metadata": {},
   "outputs": [],
   "source": [
    "class RealTimeCurrencyConverter():\n",
    "    def __init__(self,url):\n",
    "            self.data = requests.get(url).json()\n",
    "            self.currencies = self.data['rates']\n",
    "\n",
    "    def convert(self, from_currency, to_currency, amount): \n",
    "        initial_amount = amount \n",
    "        if from_currency != 'USD' : \n",
    "            amount = amount / self.currencies[from_currency] \n",
    "  \n",
    "        # limiting the precision to 4 decimal places \n",
    "        amount = round(amount * self.currencies[to_currency], 4) \n",
    "        return amount"
   ]
  },
  {
   "cell_type": "code",
   "execution_count": 8,
   "metadata": {},
   "outputs": [],
   "source": [
    "def reading_csv_data(filename):\n",
    "    source_df = pd.read_csv(filename, sep=',', encoding='utf-8', engine='python',error_bad_lines=False) \n",
    "    return source_df"
   ]
  },
  {
   "cell_type": "markdown",
   "metadata": {},
   "source": [
    "## Reading source data "
   ]
  },
  {
   "cell_type": "code",
   "execution_count": 9,
   "metadata": {},
   "outputs": [],
   "source": [
    "source_df = reading_csv_data(\"./objects_data_small_slide.csv\")"
   ]
  },
  {
   "cell_type": "markdown",
   "metadata": {},
   "source": [
    "## Mapping "
   ]
  },
  {
   "cell_type": "code",
   "execution_count": 10,
   "metadata": {},
   "outputs": [
    {
     "data": {
      "text/html": [
       "<div>\n",
       "<style scoped>\n",
       "    .dataframe tbody tr th:only-of-type {\n",
       "        vertical-align: middle;\n",
       "    }\n",
       "\n",
       "    .dataframe tbody tr th {\n",
       "        vertical-align: top;\n",
       "    }\n",
       "\n",
       "    .dataframe thead th {\n",
       "        text-align: right;\n",
       "    }\n",
       "</style>\n",
       "<table border=\"1\" class=\"dataframe\">\n",
       "  <thead>\n",
       "    <tr style=\"text-align: right;\">\n",
       "      <th></th>\n",
       "      <th>Object ID</th>\n",
       "      <th>Object Type</th>\n",
       "      <th>Object Key</th>\n",
       "      <th>Creation Date</th>\n",
       "      <th>Delivery date</th>\n",
       "      <th>Lead Time</th>\n",
       "      <th>Amount</th>\n",
       "      <th>Currency</th>\n",
       "      <th>Comments</th>\n",
       "    </tr>\n",
       "  </thead>\n",
       "  <tbody>\n",
       "    <tr>\n",
       "      <th>0</th>\n",
       "      <td>1000160868</td>\n",
       "      <td>Bathroom</td>\n",
       "      <td>13-bath-red</td>\n",
       "      <td>9/6/2021</td>\n",
       "      <td>12/9/2021</td>\n",
       "      <td>94</td>\n",
       "      <td>22 400.29</td>\n",
       "      <td>JPY</td>\n",
       "      <td>13-bath-red_Bathroom</td>\n",
       "    </tr>\n",
       "    <tr>\n",
       "      <th>1</th>\n",
       "      <td>1086686178</td>\n",
       "      <td>Livingroom</td>\n",
       "      <td>1233-liv-cup</td>\n",
       "      <td>9/30/2021</td>\n",
       "      <td>11/20/2021</td>\n",
       "      <td>51</td>\n",
       "      <td>1 360.13</td>\n",
       "      <td>JPY</td>\n",
       "      <td>1233-liv-cup_Livingroom</td>\n",
       "    </tr>\n",
       "    <tr>\n",
       "      <th>2</th>\n",
       "      <td>1086686191</td>\n",
       "      <td>Bathroom</td>\n",
       "      <td>13-bath-red</td>\n",
       "      <td>9/30/2021</td>\n",
       "      <td>11/24/2021</td>\n",
       "      <td>55</td>\n",
       "      <td>1 126.44</td>\n",
       "      <td>JPY</td>\n",
       "      <td>13-bath-red_Bathroom</td>\n",
       "    </tr>\n",
       "  </tbody>\n",
       "</table>\n",
       "</div>"
      ],
      "text/plain": [
       "    Object ID Object Type    Object Key Creation Date Delivery date Lead Time  \\\n",
       "0  1000160868    Bathroom   13-bath-red      9/6/2021     12/9/2021        94   \n",
       "1  1086686178  Livingroom  1233-liv-cup     9/30/2021    11/20/2021        51   \n",
       "2  1086686191    Bathroom   13-bath-red     9/30/2021    11/24/2021        55   \n",
       "\n",
       "      Amount Currency                 Comments  \n",
       "0  22 400.29      JPY     13-bath-red_Bathroom  \n",
       "1   1 360.13      JPY  1233-liv-cup_Livingroom  \n",
       "2   1 126.44      JPY     13-bath-red_Bathroom  "
      ]
     },
     "metadata": {},
     "output_type": "display_data"
    },
    {
     "data": {
      "text/html": [
       "<div>\n",
       "<style scoped>\n",
       "    .dataframe tbody tr th:only-of-type {\n",
       "        vertical-align: middle;\n",
       "    }\n",
       "\n",
       "    .dataframe tbody tr th {\n",
       "        vertical-align: top;\n",
       "    }\n",
       "\n",
       "    .dataframe thead th {\n",
       "        text-align: right;\n",
       "    }\n",
       "</style>\n",
       "<table border=\"1\" class=\"dataframe\">\n",
       "  <thead>\n",
       "    <tr style=\"text-align: right;\">\n",
       "      <th></th>\n",
       "      <th>Column Names</th>\n",
       "    </tr>\n",
       "  </thead>\n",
       "  <tbody>\n",
       "    <tr>\n",
       "      <th>0</th>\n",
       "      <td>Object ID</td>\n",
       "    </tr>\n",
       "    <tr>\n",
       "      <th>1</th>\n",
       "      <td>Object Type</td>\n",
       "    </tr>\n",
       "    <tr>\n",
       "      <th>2</th>\n",
       "      <td>Object Key</td>\n",
       "    </tr>\n",
       "    <tr>\n",
       "      <th>3</th>\n",
       "      <td>Creation Date</td>\n",
       "    </tr>\n",
       "    <tr>\n",
       "      <th>4</th>\n",
       "      <td>Delivery date</td>\n",
       "    </tr>\n",
       "    <tr>\n",
       "      <th>5</th>\n",
       "      <td>Lead Time</td>\n",
       "    </tr>\n",
       "    <tr>\n",
       "      <th>6</th>\n",
       "      <td>Amount</td>\n",
       "    </tr>\n",
       "    <tr>\n",
       "      <th>7</th>\n",
       "      <td>Currency</td>\n",
       "    </tr>\n",
       "    <tr>\n",
       "      <th>8</th>\n",
       "      <td>Comments</td>\n",
       "    </tr>\n",
       "  </tbody>\n",
       "</table>\n",
       "</div>"
      ],
      "text/plain": [
       "    Column Names\n",
       "0  Object ID    \n",
       "1  Object Type  \n",
       "2  Object Key   \n",
       "3  Creation Date\n",
       "4  Delivery date\n",
       "5  Lead Time    \n",
       "6  Amount       \n",
       "7  Currency     \n",
       "8  Comments     "
      ]
     },
     "metadata": {},
     "output_type": "display_data"
    },
    {
     "data": {
      "text/html": [
       "<div>\n",
       "<style scoped>\n",
       "    .dataframe tbody tr th:only-of-type {\n",
       "        vertical-align: middle;\n",
       "    }\n",
       "\n",
       "    .dataframe tbody tr th {\n",
       "        vertical-align: top;\n",
       "    }\n",
       "\n",
       "    .dataframe thead th {\n",
       "        text-align: right;\n",
       "    }\n",
       "</style>\n",
       "<table border=\"1\" class=\"dataframe\">\n",
       "  <thead>\n",
       "    <tr style=\"text-align: right;\">\n",
       "      <th></th>\n",
       "      <th>Data Types</th>\n",
       "    </tr>\n",
       "  </thead>\n",
       "  <tbody>\n",
       "    <tr>\n",
       "      <th>Object ID</th>\n",
       "      <td>int64</td>\n",
       "    </tr>\n",
       "    <tr>\n",
       "      <th>Object Type</th>\n",
       "      <td>object</td>\n",
       "    </tr>\n",
       "    <tr>\n",
       "      <th>Object Key</th>\n",
       "      <td>object</td>\n",
       "    </tr>\n",
       "    <tr>\n",
       "      <th>Creation Date</th>\n",
       "      <td>object</td>\n",
       "    </tr>\n",
       "    <tr>\n",
       "      <th>Delivery date</th>\n",
       "      <td>object</td>\n",
       "    </tr>\n",
       "    <tr>\n",
       "      <th>Lead Time</th>\n",
       "      <td>object</td>\n",
       "    </tr>\n",
       "    <tr>\n",
       "      <th>Amount</th>\n",
       "      <td>object</td>\n",
       "    </tr>\n",
       "    <tr>\n",
       "      <th>Currency</th>\n",
       "      <td>object</td>\n",
       "    </tr>\n",
       "    <tr>\n",
       "      <th>Comments</th>\n",
       "      <td>object</td>\n",
       "    </tr>\n",
       "  </tbody>\n",
       "</table>\n",
       "</div>"
      ],
      "text/plain": [
       "              Data Types\n",
       "Object ID      int64    \n",
       "Object Type    object   \n",
       "Object Key     object   \n",
       "Creation Date  object   \n",
       "Delivery date  object   \n",
       "Lead Time      object   \n",
       "Amount         object   \n",
       "Currency       object   \n",
       "Comments       object   "
      ]
     },
     "metadata": {},
     "output_type": "display_data"
    },
    {
     "data": {
      "text/html": [
       "<div>\n",
       "<style scoped>\n",
       "    .dataframe tbody tr th:only-of-type {\n",
       "        vertical-align: middle;\n",
       "    }\n",
       "\n",
       "    .dataframe tbody tr th {\n",
       "        vertical-align: top;\n",
       "    }\n",
       "\n",
       "    .dataframe thead th {\n",
       "        text-align: right;\n",
       "    }\n",
       "</style>\n",
       "<table border=\"1\" class=\"dataframe\">\n",
       "  <thead>\n",
       "    <tr style=\"text-align: right;\">\n",
       "      <th></th>\n",
       "      <th>Null Values</th>\n",
       "    </tr>\n",
       "  </thead>\n",
       "  <tbody>\n",
       "    <tr>\n",
       "      <th>Object ID</th>\n",
       "      <td>0</td>\n",
       "    </tr>\n",
       "    <tr>\n",
       "      <th>Object Type</th>\n",
       "      <td>0</td>\n",
       "    </tr>\n",
       "    <tr>\n",
       "      <th>Object Key</th>\n",
       "      <td>0</td>\n",
       "    </tr>\n",
       "    <tr>\n",
       "      <th>Creation Date</th>\n",
       "      <td>0</td>\n",
       "    </tr>\n",
       "    <tr>\n",
       "      <th>Delivery date</th>\n",
       "      <td>0</td>\n",
       "    </tr>\n",
       "    <tr>\n",
       "      <th>Lead Time</th>\n",
       "      <td>0</td>\n",
       "    </tr>\n",
       "    <tr>\n",
       "      <th>Amount</th>\n",
       "      <td>0</td>\n",
       "    </tr>\n",
       "    <tr>\n",
       "      <th>Currency</th>\n",
       "      <td>0</td>\n",
       "    </tr>\n",
       "    <tr>\n",
       "      <th>Comments</th>\n",
       "      <td>0</td>\n",
       "    </tr>\n",
       "  </tbody>\n",
       "</table>\n",
       "</div>"
      ],
      "text/plain": [
       "               Null Values\n",
       "Object ID      0          \n",
       "Object Type    0          \n",
       "Object Key     0          \n",
       "Creation Date  0          \n",
       "Delivery date  0          \n",
       "Lead Time      0          \n",
       "Amount         0          \n",
       "Currency       0          \n",
       "Comments       0          "
      ]
     },
     "metadata": {},
     "output_type": "display_data"
    }
   ],
   "source": [
    "mapping_data(source_df)"
   ]
  },
  {
   "cell_type": "code",
   "execution_count": 11,
   "metadata": {},
   "outputs": [],
   "source": [
    "source_df[\"Amount\"] = [str(i).replace(\" \", \"\") for i in source_df[\"Amount\"]]"
   ]
  },
  {
   "cell_type": "code",
   "execution_count": 12,
   "metadata": {},
   "outputs": [
    {
     "data": {
      "text/html": [
       "<div>\n",
       "<style scoped>\n",
       "    .dataframe tbody tr th:only-of-type {\n",
       "        vertical-align: middle;\n",
       "    }\n",
       "\n",
       "    .dataframe tbody tr th {\n",
       "        vertical-align: top;\n",
       "    }\n",
       "\n",
       "    .dataframe thead th {\n",
       "        text-align: right;\n",
       "    }\n",
       "</style>\n",
       "<table border=\"1\" class=\"dataframe\">\n",
       "  <thead>\n",
       "    <tr style=\"text-align: right;\">\n",
       "      <th></th>\n",
       "      <th>Object ID</th>\n",
       "      <th>Object Type</th>\n",
       "      <th>Object Key</th>\n",
       "      <th>Creation Date</th>\n",
       "      <th>Delivery date</th>\n",
       "      <th>Lead Time</th>\n",
       "      <th>Amount</th>\n",
       "      <th>Currency</th>\n",
       "      <th>Comments</th>\n",
       "    </tr>\n",
       "  </thead>\n",
       "  <tbody>\n",
       "    <tr>\n",
       "      <th>0</th>\n",
       "      <td>1000160868</td>\n",
       "      <td>Bathroom</td>\n",
       "      <td>13-bath-red</td>\n",
       "      <td>9/6/2021</td>\n",
       "      <td>12/9/2021</td>\n",
       "      <td>94</td>\n",
       "      <td>22400.29</td>\n",
       "      <td>JPY</td>\n",
       "      <td>13-bath-red_Bathroom</td>\n",
       "    </tr>\n",
       "    <tr>\n",
       "      <th>1</th>\n",
       "      <td>1086686178</td>\n",
       "      <td>Livingroom</td>\n",
       "      <td>1233-liv-cup</td>\n",
       "      <td>9/30/2021</td>\n",
       "      <td>11/20/2021</td>\n",
       "      <td>51</td>\n",
       "      <td>1360.13</td>\n",
       "      <td>JPY</td>\n",
       "      <td>1233-liv-cup_Livingroom</td>\n",
       "    </tr>\n",
       "    <tr>\n",
       "      <th>2</th>\n",
       "      <td>1086686191</td>\n",
       "      <td>Bathroom</td>\n",
       "      <td>13-bath-red</td>\n",
       "      <td>9/30/2021</td>\n",
       "      <td>11/24/2021</td>\n",
       "      <td>55</td>\n",
       "      <td>1126.44</td>\n",
       "      <td>JPY</td>\n",
       "      <td>13-bath-red_Bathroom</td>\n",
       "    </tr>\n",
       "    <tr>\n",
       "      <th>3</th>\n",
       "      <td>1086683671</td>\n",
       "      <td>Bathroom</td>\n",
       "      <td>13-bath-red</td>\n",
       "      <td>9/30/2021</td>\n",
       "      <td>4/29/2023</td>\n",
       "      <td>576</td>\n",
       "      <td>164.97</td>\n",
       "      <td>JPY</td>\n",
       "      <td>13-bath-red_Bathroom</td>\n",
       "    </tr>\n",
       "  </tbody>\n",
       "</table>\n",
       "</div>"
      ],
      "text/plain": [
       "    Object ID Object Type    Object Key Creation Date Delivery date Lead Time  \\\n",
       "0  1000160868  Bathroom    13-bath-red   9/6/2021      12/9/2021     94         \n",
       "1  1086686178  Livingroom  1233-liv-cup  9/30/2021     11/20/2021    51         \n",
       "2  1086686191  Bathroom    13-bath-red   9/30/2021     11/24/2021    55         \n",
       "3  1086683671  Bathroom    13-bath-red   9/30/2021     4/29/2023     576        \n",
       "\n",
       "     Amount Currency                 Comments  \n",
       "0  22400.29  JPY      13-bath-red_Bathroom     \n",
       "1  1360.13   JPY      1233-liv-cup_Livingroom  \n",
       "2  1126.44   JPY      13-bath-red_Bathroom     \n",
       "3  164.97    JPY      13-bath-red_Bathroom     "
      ]
     },
     "execution_count": 12,
     "metadata": {},
     "output_type": "execute_result"
    }
   ],
   "source": [
    "source_df.head(4)"
   ]
  },
  {
   "cell_type": "code",
   "execution_count": 14,
   "metadata": {},
   "outputs": [],
   "source": [
    "source_df = source_df.astype({'Amount':'float64'})"
   ]
  },
  {
   "cell_type": "code",
   "execution_count": 15,
   "metadata": {},
   "outputs": [
    {
     "data": {
      "text/plain": [
       "(9395, 9)"
      ]
     },
     "execution_count": 15,
     "metadata": {},
     "output_type": "execute_result"
    }
   ],
   "source": [
    "source_df.shape"
   ]
  },
  {
   "cell_type": "markdown",
   "metadata": {},
   "source": [
    "### **Cleaning up**"
   ]
  },
  {
   "cell_type": "code",
   "execution_count": 16,
   "metadata": {},
   "outputs": [],
   "source": [
    "source_df = source_df.drop_duplicates(subset=\"Object ID\")"
   ]
  },
  {
   "cell_type": "code",
   "execution_count": 18,
   "metadata": {},
   "outputs": [
    {
     "data": {
      "text/plain": [
       "(7641, 9)"
      ]
     },
     "execution_count": 18,
     "metadata": {},
     "output_type": "execute_result"
    }
   ],
   "source": [
    "source_df.shape"
   ]
  },
  {
   "cell_type": "markdown",
   "metadata": {},
   "source": [
    "## Exchange rate"
   ]
  },
  {
   "cell_type": "code",
   "execution_count": 19,
   "metadata": {},
   "outputs": [
    {
     "data": {
      "text/html": [
       "<div>\n",
       "<style scoped>\n",
       "    .dataframe tbody tr th:only-of-type {\n",
       "        vertical-align: middle;\n",
       "    }\n",
       "\n",
       "    .dataframe tbody tr th {\n",
       "        vertical-align: top;\n",
       "    }\n",
       "\n",
       "    .dataframe thead th {\n",
       "        text-align: right;\n",
       "    }\n",
       "</style>\n",
       "<table border=\"1\" class=\"dataframe\">\n",
       "  <thead>\n",
       "    <tr style=\"text-align: right;\">\n",
       "      <th></th>\n",
       "      <th>Object ID</th>\n",
       "      <th>Object Type</th>\n",
       "      <th>Object Key</th>\n",
       "      <th>Creation Date</th>\n",
       "      <th>Delivery date</th>\n",
       "      <th>Lead Time</th>\n",
       "      <th>Amount</th>\n",
       "      <th>Currency</th>\n",
       "      <th>Comments</th>\n",
       "    </tr>\n",
       "  </thead>\n",
       "  <tbody>\n",
       "    <tr>\n",
       "      <th>0</th>\n",
       "      <td>1000160868</td>\n",
       "      <td>Bathroom</td>\n",
       "      <td>13-bath-red</td>\n",
       "      <td>9/6/2021</td>\n",
       "      <td>12/9/2021</td>\n",
       "      <td>94</td>\n",
       "      <td>22400.29</td>\n",
       "      <td>JPY</td>\n",
       "      <td>13-bath-red_Bathroom</td>\n",
       "    </tr>\n",
       "    <tr>\n",
       "      <th>1</th>\n",
       "      <td>1086686178</td>\n",
       "      <td>Livingroom</td>\n",
       "      <td>1233-liv-cup</td>\n",
       "      <td>9/30/2021</td>\n",
       "      <td>11/20/2021</td>\n",
       "      <td>51</td>\n",
       "      <td>1360.13</td>\n",
       "      <td>JPY</td>\n",
       "      <td>1233-liv-cup_Livingroom</td>\n",
       "    </tr>\n",
       "    <tr>\n",
       "      <th>2</th>\n",
       "      <td>1086686191</td>\n",
       "      <td>Bathroom</td>\n",
       "      <td>13-bath-red</td>\n",
       "      <td>9/30/2021</td>\n",
       "      <td>11/24/2021</td>\n",
       "      <td>55</td>\n",
       "      <td>1126.44</td>\n",
       "      <td>JPY</td>\n",
       "      <td>13-bath-red_Bathroom</td>\n",
       "    </tr>\n",
       "    <tr>\n",
       "      <th>3</th>\n",
       "      <td>1086683671</td>\n",
       "      <td>Bathroom</td>\n",
       "      <td>13-bath-red</td>\n",
       "      <td>9/30/2021</td>\n",
       "      <td>4/29/2023</td>\n",
       "      <td>576</td>\n",
       "      <td>164.97</td>\n",
       "      <td>JPY</td>\n",
       "      <td>13-bath-red_Bathroom</td>\n",
       "    </tr>\n",
       "  </tbody>\n",
       "</table>\n",
       "</div>"
      ],
      "text/plain": [
       "    Object ID Object Type    Object Key Creation Date Delivery date Lead Time  \\\n",
       "0  1000160868  Bathroom    13-bath-red   9/6/2021      12/9/2021     94         \n",
       "1  1086686178  Livingroom  1233-liv-cup  9/30/2021     11/20/2021    51         \n",
       "2  1086686191  Bathroom    13-bath-red   9/30/2021     11/24/2021    55         \n",
       "3  1086683671  Bathroom    13-bath-red   9/30/2021     4/29/2023     576        \n",
       "\n",
       "     Amount Currency                 Comments  \n",
       "0  22400.29  JPY      13-bath-red_Bathroom     \n",
       "1  1360.13   JPY      1233-liv-cup_Livingroom  \n",
       "2  1126.44   JPY      13-bath-red_Bathroom     \n",
       "3  164.97    JPY      13-bath-red_Bathroom     "
      ]
     },
     "execution_count": 19,
     "metadata": {},
     "output_type": "execute_result"
    }
   ],
   "source": [
    "source_df.head(4)"
   ]
  },
  {
   "cell_type": "code",
   "execution_count": 20,
   "metadata": {},
   "outputs": [],
   "source": [
    "currency_change_df = source_df.copy()"
   ]
  },
  {
   "cell_type": "code",
   "execution_count": 21,
   "metadata": {},
   "outputs": [
    {
     "data": {
      "text/html": [
       "<div>\n",
       "<style scoped>\n",
       "    .dataframe tbody tr th:only-of-type {\n",
       "        vertical-align: middle;\n",
       "    }\n",
       "\n",
       "    .dataframe tbody tr th {\n",
       "        vertical-align: top;\n",
       "    }\n",
       "\n",
       "    .dataframe thead th {\n",
       "        text-align: right;\n",
       "    }\n",
       "</style>\n",
       "<table border=\"1\" class=\"dataframe\">\n",
       "  <thead>\n",
       "    <tr style=\"text-align: right;\">\n",
       "      <th></th>\n",
       "      <th>Object ID</th>\n",
       "      <th>Object Type</th>\n",
       "      <th>Object Key</th>\n",
       "      <th>Creation Date</th>\n",
       "      <th>Delivery date</th>\n",
       "      <th>Lead Time</th>\n",
       "      <th>Amount</th>\n",
       "      <th>Currency</th>\n",
       "      <th>Comments</th>\n",
       "    </tr>\n",
       "  </thead>\n",
       "  <tbody>\n",
       "    <tr>\n",
       "      <th>0</th>\n",
       "      <td>1000160868</td>\n",
       "      <td>Bathroom</td>\n",
       "      <td>13-bath-red</td>\n",
       "      <td>9/6/2021</td>\n",
       "      <td>12/9/2021</td>\n",
       "      <td>94</td>\n",
       "      <td>22400.29</td>\n",
       "      <td>JPY</td>\n",
       "      <td>13-bath-red_Bathroom</td>\n",
       "    </tr>\n",
       "    <tr>\n",
       "      <th>1</th>\n",
       "      <td>1086686178</td>\n",
       "      <td>Livingroom</td>\n",
       "      <td>1233-liv-cup</td>\n",
       "      <td>9/30/2021</td>\n",
       "      <td>11/20/2021</td>\n",
       "      <td>51</td>\n",
       "      <td>1360.13</td>\n",
       "      <td>JPY</td>\n",
       "      <td>1233-liv-cup_Livingroom</td>\n",
       "    </tr>\n",
       "    <tr>\n",
       "      <th>2</th>\n",
       "      <td>1086686191</td>\n",
       "      <td>Bathroom</td>\n",
       "      <td>13-bath-red</td>\n",
       "      <td>9/30/2021</td>\n",
       "      <td>11/24/2021</td>\n",
       "      <td>55</td>\n",
       "      <td>1126.44</td>\n",
       "      <td>JPY</td>\n",
       "      <td>13-bath-red_Bathroom</td>\n",
       "    </tr>\n",
       "    <tr>\n",
       "      <th>3</th>\n",
       "      <td>1086683671</td>\n",
       "      <td>Bathroom</td>\n",
       "      <td>13-bath-red</td>\n",
       "      <td>9/30/2021</td>\n",
       "      <td>4/29/2023</td>\n",
       "      <td>576</td>\n",
       "      <td>164.97</td>\n",
       "      <td>JPY</td>\n",
       "      <td>13-bath-red_Bathroom</td>\n",
       "    </tr>\n",
       "  </tbody>\n",
       "</table>\n",
       "</div>"
      ],
      "text/plain": [
       "    Object ID Object Type    Object Key Creation Date Delivery date Lead Time  \\\n",
       "0  1000160868  Bathroom    13-bath-red   9/6/2021      12/9/2021     94         \n",
       "1  1086686178  Livingroom  1233-liv-cup  9/30/2021     11/20/2021    51         \n",
       "2  1086686191  Bathroom    13-bath-red   9/30/2021     11/24/2021    55         \n",
       "3  1086683671  Bathroom    13-bath-red   9/30/2021     4/29/2023     576        \n",
       "\n",
       "     Amount Currency                 Comments  \n",
       "0  22400.29  JPY      13-bath-red_Bathroom     \n",
       "1  1360.13   JPY      1233-liv-cup_Livingroom  \n",
       "2  1126.44   JPY      13-bath-red_Bathroom     \n",
       "3  164.97    JPY      13-bath-red_Bathroom     "
      ]
     },
     "execution_count": 21,
     "metadata": {},
     "output_type": "execute_result"
    }
   ],
   "source": [
    "currency_change_df.head(4)"
   ]
  },
  {
   "cell_type": "code",
   "execution_count": 22,
   "metadata": {},
   "outputs": [],
   "source": [
    "url = 'https://api.exchangerate-api.com/v4/latest/USD'\n",
    "converter = RealTimeCurrencyConverter(url)"
   ]
  },
  {
   "cell_type": "code",
   "execution_count": 23,
   "metadata": {},
   "outputs": [],
   "source": [
    "currency_change_df['std_US_amount'] = currency_change_df.apply(lambda row : converter.convert(row['Currency'], \"USD\", row['Amount']), axis = 1)"
   ]
  },
  {
   "cell_type": "code",
   "execution_count": 24,
   "metadata": {},
   "outputs": [
    {
     "data": {
      "text/html": [
       "<div>\n",
       "<style scoped>\n",
       "    .dataframe tbody tr th:only-of-type {\n",
       "        vertical-align: middle;\n",
       "    }\n",
       "\n",
       "    .dataframe tbody tr th {\n",
       "        vertical-align: top;\n",
       "    }\n",
       "\n",
       "    .dataframe thead th {\n",
       "        text-align: right;\n",
       "    }\n",
       "</style>\n",
       "<table border=\"1\" class=\"dataframe\">\n",
       "  <thead>\n",
       "    <tr style=\"text-align: right;\">\n",
       "      <th></th>\n",
       "      <th>Object ID</th>\n",
       "      <th>Object Type</th>\n",
       "      <th>Object Key</th>\n",
       "      <th>Creation Date</th>\n",
       "      <th>Delivery date</th>\n",
       "      <th>Lead Time</th>\n",
       "      <th>Amount</th>\n",
       "      <th>Currency</th>\n",
       "      <th>Comments</th>\n",
       "      <th>std_US_amount</th>\n",
       "    </tr>\n",
       "  </thead>\n",
       "  <tbody>\n",
       "    <tr>\n",
       "      <th>0</th>\n",
       "      <td>1000160868</td>\n",
       "      <td>Bathroom</td>\n",
       "      <td>13-bath-red</td>\n",
       "      <td>9/6/2021</td>\n",
       "      <td>12/9/2021</td>\n",
       "      <td>94</td>\n",
       "      <td>22400.29</td>\n",
       "      <td>JPY</td>\n",
       "      <td>13-bath-red_Bathroom</td>\n",
       "      <td>191.2593</td>\n",
       "    </tr>\n",
       "    <tr>\n",
       "      <th>1</th>\n",
       "      <td>1086686178</td>\n",
       "      <td>Livingroom</td>\n",
       "      <td>1233-liv-cup</td>\n",
       "      <td>9/30/2021</td>\n",
       "      <td>11/20/2021</td>\n",
       "      <td>51</td>\n",
       "      <td>1360.13</td>\n",
       "      <td>JPY</td>\n",
       "      <td>1233-liv-cup_Livingroom</td>\n",
       "      <td>11.6131</td>\n",
       "    </tr>\n",
       "    <tr>\n",
       "      <th>2</th>\n",
       "      <td>1086686191</td>\n",
       "      <td>Bathroom</td>\n",
       "      <td>13-bath-red</td>\n",
       "      <td>9/30/2021</td>\n",
       "      <td>11/24/2021</td>\n",
       "      <td>55</td>\n",
       "      <td>1126.44</td>\n",
       "      <td>JPY</td>\n",
       "      <td>13-bath-red_Bathroom</td>\n",
       "      <td>9.6178</td>\n",
       "    </tr>\n",
       "    <tr>\n",
       "      <th>3</th>\n",
       "      <td>1086683671</td>\n",
       "      <td>Bathroom</td>\n",
       "      <td>13-bath-red</td>\n",
       "      <td>9/30/2021</td>\n",
       "      <td>4/29/2023</td>\n",
       "      <td>576</td>\n",
       "      <td>164.97</td>\n",
       "      <td>JPY</td>\n",
       "      <td>13-bath-red_Bathroom</td>\n",
       "      <td>1.4086</td>\n",
       "    </tr>\n",
       "    <tr>\n",
       "      <th>4</th>\n",
       "      <td>994496816</td>\n",
       "      <td>Livingroom</td>\n",
       "      <td>1233-liv-cup</td>\n",
       "      <td>12/10/2021</td>\n",
       "      <td>1/24/2022</td>\n",
       "      <td>45</td>\n",
       "      <td>16160.00</td>\n",
       "      <td>COP</td>\n",
       "      <td>1233-liv-cup_Livingroom</td>\n",
       "      <td>4.2315</td>\n",
       "    </tr>\n",
       "  </tbody>\n",
       "</table>\n",
       "</div>"
      ],
      "text/plain": [
       "    Object ID Object Type    Object Key Creation Date Delivery date Lead Time  \\\n",
       "0  1000160868  Bathroom    13-bath-red   9/6/2021      12/9/2021     94         \n",
       "1  1086686178  Livingroom  1233-liv-cup  9/30/2021     11/20/2021    51         \n",
       "2  1086686191  Bathroom    13-bath-red   9/30/2021     11/24/2021    55         \n",
       "3  1086683671  Bathroom    13-bath-red   9/30/2021     4/29/2023     576        \n",
       "4  994496816   Livingroom  1233-liv-cup  12/10/2021    1/24/2022     45         \n",
       "\n",
       "     Amount Currency                 Comments  std_US_amount  \n",
       "0  22400.29  JPY      13-bath-red_Bathroom     191.2593       \n",
       "1  1360.13   JPY      1233-liv-cup_Livingroom  11.6131        \n",
       "2  1126.44   JPY      13-bath-red_Bathroom     9.6178         \n",
       "3  164.97    JPY      13-bath-red_Bathroom     1.4086         \n",
       "4  16160.00  COP      1233-liv-cup_Livingroom  4.2315         "
      ]
     },
     "execution_count": 24,
     "metadata": {},
     "output_type": "execute_result"
    }
   ],
   "source": [
    "currency_change_df.head(5)"
   ]
  },
  {
   "cell_type": "markdown",
   "metadata": {},
   "source": [
    "## Snapshot for the analysis"
   ]
  },
  {
   "cell_type": "code",
   "execution_count": 25,
   "metadata": {},
   "outputs": [],
   "source": [
    "std_curr = currency_change_df.copy()"
   ]
  },
  {
   "cell_type": "code",
   "execution_count": 26,
   "metadata": {},
   "outputs": [
    {
     "data": {
      "text/html": [
       "<div>\n",
       "<style scoped>\n",
       "    .dataframe tbody tr th:only-of-type {\n",
       "        vertical-align: middle;\n",
       "    }\n",
       "\n",
       "    .dataframe tbody tr th {\n",
       "        vertical-align: top;\n",
       "    }\n",
       "\n",
       "    .dataframe thead th {\n",
       "        text-align: right;\n",
       "    }\n",
       "</style>\n",
       "<table border=\"1\" class=\"dataframe\">\n",
       "  <thead>\n",
       "    <tr style=\"text-align: right;\">\n",
       "      <th></th>\n",
       "      <th>Object ID</th>\n",
       "      <th>Object Type</th>\n",
       "      <th>Object Key</th>\n",
       "      <th>Creation Date</th>\n",
       "      <th>Delivery date</th>\n",
       "      <th>Lead Time</th>\n",
       "      <th>Amount</th>\n",
       "      <th>Currency</th>\n",
       "      <th>Comments</th>\n",
       "      <th>std_US_amount</th>\n",
       "    </tr>\n",
       "  </thead>\n",
       "  <tbody>\n",
       "    <tr>\n",
       "      <th>0</th>\n",
       "      <td>1000160868</td>\n",
       "      <td>Bathroom</td>\n",
       "      <td>13-bath-red</td>\n",
       "      <td>9/6/2021</td>\n",
       "      <td>12/9/2021</td>\n",
       "      <td>94</td>\n",
       "      <td>22400.29</td>\n",
       "      <td>JPY</td>\n",
       "      <td>13-bath-red_Bathroom</td>\n",
       "      <td>191.2593</td>\n",
       "    </tr>\n",
       "    <tr>\n",
       "      <th>1</th>\n",
       "      <td>1086686178</td>\n",
       "      <td>Livingroom</td>\n",
       "      <td>1233-liv-cup</td>\n",
       "      <td>9/30/2021</td>\n",
       "      <td>11/20/2021</td>\n",
       "      <td>51</td>\n",
       "      <td>1360.13</td>\n",
       "      <td>JPY</td>\n",
       "      <td>1233-liv-cup_Livingroom</td>\n",
       "      <td>11.6131</td>\n",
       "    </tr>\n",
       "    <tr>\n",
       "      <th>2</th>\n",
       "      <td>1086686191</td>\n",
       "      <td>Bathroom</td>\n",
       "      <td>13-bath-red</td>\n",
       "      <td>9/30/2021</td>\n",
       "      <td>11/24/2021</td>\n",
       "      <td>55</td>\n",
       "      <td>1126.44</td>\n",
       "      <td>JPY</td>\n",
       "      <td>13-bath-red_Bathroom</td>\n",
       "      <td>9.6178</td>\n",
       "    </tr>\n",
       "    <tr>\n",
       "      <th>3</th>\n",
       "      <td>1086683671</td>\n",
       "      <td>Bathroom</td>\n",
       "      <td>13-bath-red</td>\n",
       "      <td>9/30/2021</td>\n",
       "      <td>4/29/2023</td>\n",
       "      <td>576</td>\n",
       "      <td>164.97</td>\n",
       "      <td>JPY</td>\n",
       "      <td>13-bath-red_Bathroom</td>\n",
       "      <td>1.4086</td>\n",
       "    </tr>\n",
       "  </tbody>\n",
       "</table>\n",
       "</div>"
      ],
      "text/plain": [
       "    Object ID Object Type    Object Key Creation Date Delivery date Lead Time  \\\n",
       "0  1000160868  Bathroom    13-bath-red   9/6/2021      12/9/2021     94         \n",
       "1  1086686178  Livingroom  1233-liv-cup  9/30/2021     11/20/2021    51         \n",
       "2  1086686191  Bathroom    13-bath-red   9/30/2021     11/24/2021    55         \n",
       "3  1086683671  Bathroom    13-bath-red   9/30/2021     4/29/2023     576        \n",
       "\n",
       "     Amount Currency                 Comments  std_US_amount  \n",
       "0  22400.29  JPY      13-bath-red_Bathroom     191.2593       \n",
       "1  1360.13   JPY      1233-liv-cup_Livingroom  11.6131        \n",
       "2  1126.44   JPY      13-bath-red_Bathroom     9.6178         \n",
       "3  164.97    JPY      13-bath-red_Bathroom     1.4086         "
      ]
     },
     "execution_count": 26,
     "metadata": {},
     "output_type": "execute_result"
    }
   ],
   "source": [
    "std_curr.head(4)"
   ]
  },
  {
   "cell_type": "markdown",
   "metadata": {},
   "source": [
    "### **Branch # 1**"
   ]
  },
  {
   "cell_type": "code",
   "execution_count": 27,
   "metadata": {},
   "outputs": [],
   "source": [
    "std_curr['std US 0-60'] = std_curr['std_US_amount'].between(0, 60, inclusive=True)"
   ]
  },
  {
   "cell_type": "markdown",
   "metadata": {},
   "source": [
    "### **Branch # 2**"
   ]
  },
  {
   "cell_type": "code",
   "execution_count": 28,
   "metadata": {},
   "outputs": [],
   "source": [
    "std_curr['std US 61-300'] = std_curr['std_US_amount'].between(61, 300, inclusive=True)"
   ]
  },
  {
   "cell_type": "markdown",
   "metadata": {},
   "source": [
    "### **Branch # 3**"
   ]
  },
  {
   "cell_type": "code",
   "execution_count": 29,
   "metadata": {},
   "outputs": [],
   "source": [
    "std_curr['std US 301-600'] = std_curr['std_US_amount'].between(301, 600, inclusive=True)"
   ]
  },
  {
   "cell_type": "markdown",
   "metadata": {},
   "source": [
    "### **Extract snapshots**"
   ]
  },
  {
   "cell_type": "code",
   "execution_count": 30,
   "metadata": {},
   "outputs": [
    {
     "data": {
      "text/html": [
       "<div>\n",
       "<style scoped>\n",
       "    .dataframe tbody tr th:only-of-type {\n",
       "        vertical-align: middle;\n",
       "    }\n",
       "\n",
       "    .dataframe tbody tr th {\n",
       "        vertical-align: top;\n",
       "    }\n",
       "\n",
       "    .dataframe thead th {\n",
       "        text-align: right;\n",
       "    }\n",
       "</style>\n",
       "<table border=\"1\" class=\"dataframe\">\n",
       "  <thead>\n",
       "    <tr style=\"text-align: right;\">\n",
       "      <th></th>\n",
       "      <th>Object ID</th>\n",
       "      <th>Object Type</th>\n",
       "      <th>Object Key</th>\n",
       "      <th>Creation Date</th>\n",
       "      <th>Delivery date</th>\n",
       "      <th>Lead Time</th>\n",
       "      <th>Amount</th>\n",
       "      <th>Currency</th>\n",
       "      <th>Comments</th>\n",
       "      <th>std_US_amount</th>\n",
       "      <th>std US 0-60</th>\n",
       "      <th>std US 61-300</th>\n",
       "      <th>std US 301-600</th>\n",
       "    </tr>\n",
       "  </thead>\n",
       "  <tbody>\n",
       "    <tr>\n",
       "      <th>0</th>\n",
       "      <td>1000160868</td>\n",
       "      <td>Bathroom</td>\n",
       "      <td>13-bath-red</td>\n",
       "      <td>9/6/2021</td>\n",
       "      <td>12/9/2021</td>\n",
       "      <td>94</td>\n",
       "      <td>22400.29</td>\n",
       "      <td>JPY</td>\n",
       "      <td>13-bath-red_Bathroom</td>\n",
       "      <td>191.2593</td>\n",
       "      <td>False</td>\n",
       "      <td>True</td>\n",
       "      <td>False</td>\n",
       "    </tr>\n",
       "    <tr>\n",
       "      <th>1</th>\n",
       "      <td>1086686178</td>\n",
       "      <td>Livingroom</td>\n",
       "      <td>1233-liv-cup</td>\n",
       "      <td>9/30/2021</td>\n",
       "      <td>11/20/2021</td>\n",
       "      <td>51</td>\n",
       "      <td>1360.13</td>\n",
       "      <td>JPY</td>\n",
       "      <td>1233-liv-cup_Livingroom</td>\n",
       "      <td>11.6131</td>\n",
       "      <td>True</td>\n",
       "      <td>False</td>\n",
       "      <td>False</td>\n",
       "    </tr>\n",
       "    <tr>\n",
       "      <th>2</th>\n",
       "      <td>1086686191</td>\n",
       "      <td>Bathroom</td>\n",
       "      <td>13-bath-red</td>\n",
       "      <td>9/30/2021</td>\n",
       "      <td>11/24/2021</td>\n",
       "      <td>55</td>\n",
       "      <td>1126.44</td>\n",
       "      <td>JPY</td>\n",
       "      <td>13-bath-red_Bathroom</td>\n",
       "      <td>9.6178</td>\n",
       "      <td>True</td>\n",
       "      <td>False</td>\n",
       "      <td>False</td>\n",
       "    </tr>\n",
       "    <tr>\n",
       "      <th>3</th>\n",
       "      <td>1086683671</td>\n",
       "      <td>Bathroom</td>\n",
       "      <td>13-bath-red</td>\n",
       "      <td>9/30/2021</td>\n",
       "      <td>4/29/2023</td>\n",
       "      <td>576</td>\n",
       "      <td>164.97</td>\n",
       "      <td>JPY</td>\n",
       "      <td>13-bath-red_Bathroom</td>\n",
       "      <td>1.4086</td>\n",
       "      <td>True</td>\n",
       "      <td>False</td>\n",
       "      <td>False</td>\n",
       "    </tr>\n",
       "    <tr>\n",
       "      <th>4</th>\n",
       "      <td>994496816</td>\n",
       "      <td>Livingroom</td>\n",
       "      <td>1233-liv-cup</td>\n",
       "      <td>12/10/2021</td>\n",
       "      <td>1/24/2022</td>\n",
       "      <td>45</td>\n",
       "      <td>16160.00</td>\n",
       "      <td>COP</td>\n",
       "      <td>1233-liv-cup_Livingroom</td>\n",
       "      <td>4.2315</td>\n",
       "      <td>True</td>\n",
       "      <td>False</td>\n",
       "      <td>False</td>\n",
       "    </tr>\n",
       "  </tbody>\n",
       "</table>\n",
       "</div>"
      ],
      "text/plain": [
       "    Object ID Object Type    Object Key Creation Date Delivery date Lead Time  \\\n",
       "0  1000160868  Bathroom    13-bath-red   9/6/2021      12/9/2021     94         \n",
       "1  1086686178  Livingroom  1233-liv-cup  9/30/2021     11/20/2021    51         \n",
       "2  1086686191  Bathroom    13-bath-red   9/30/2021     11/24/2021    55         \n",
       "3  1086683671  Bathroom    13-bath-red   9/30/2021     4/29/2023     576        \n",
       "4  994496816   Livingroom  1233-liv-cup  12/10/2021    1/24/2022     45         \n",
       "\n",
       "     Amount Currency                 Comments  std_US_amount  std US 0-60  \\\n",
       "0  22400.29  JPY      13-bath-red_Bathroom     191.2593       False         \n",
       "1  1360.13   JPY      1233-liv-cup_Livingroom  11.6131        True          \n",
       "2  1126.44   JPY      13-bath-red_Bathroom     9.6178         True          \n",
       "3  164.97    JPY      13-bath-red_Bathroom     1.4086         True          \n",
       "4  16160.00  COP      1233-liv-cup_Livingroom  4.2315         True          \n",
       "\n",
       "   std US 61-300  std US 301-600  \n",
       "0  True           False           \n",
       "1  False          False           \n",
       "2  False          False           \n",
       "3  False          False           \n",
       "4  False          False           "
      ]
     },
     "execution_count": 30,
     "metadata": {},
     "output_type": "execute_result"
    }
   ],
   "source": [
    "std_curr.head(5)"
   ]
  },
  {
   "cell_type": "code",
   "execution_count": 31,
   "metadata": {},
   "outputs": [],
   "source": [
    "std_1 = snapshot_by_equalcondition(std_curr, \"std US 0-60\", True)\n",
    "std_2 = snapshot_by_equalcondition(std_curr, \"std US 61-300\", True)\n",
    "std_3 = snapshot_by_equalcondition(std_curr, \"std US 301-600\", True)"
   ]
  },
  {
   "cell_type": "code",
   "execution_count": 32,
   "metadata": {},
   "outputs": [
    {
     "data": {
      "text/html": [
       "<div>\n",
       "<style scoped>\n",
       "    .dataframe tbody tr th:only-of-type {\n",
       "        vertical-align: middle;\n",
       "    }\n",
       "\n",
       "    .dataframe tbody tr th {\n",
       "        vertical-align: top;\n",
       "    }\n",
       "\n",
       "    .dataframe thead th {\n",
       "        text-align: right;\n",
       "    }\n",
       "</style>\n",
       "<table border=\"1\" class=\"dataframe\">\n",
       "  <thead>\n",
       "    <tr style=\"text-align: right;\">\n",
       "      <th></th>\n",
       "      <th></th>\n",
       "    </tr>\n",
       "  </thead>\n",
       "  <tbody>\n",
       "    <tr>\n",
       "      <th>Description</th>\n",
       "      <td>Shapes</td>\n",
       "    </tr>\n",
       "    <tr>\n",
       "      <th>Input Data</th>\n",
       "      <td>(7641, 9)</td>\n",
       "    </tr>\n",
       "    <tr>\n",
       "      <th>Split #1</th>\n",
       "      <td>(2380, 13)</td>\n",
       "    </tr>\n",
       "    <tr>\n",
       "      <th>Split #2</th>\n",
       "      <td>(1153, 13)</td>\n",
       "    </tr>\n",
       "    <tr>\n",
       "      <th>Split #3</th>\n",
       "      <td>(692, 13)</td>\n",
       "    </tr>\n",
       "  </tbody>\n",
       "</table>\n",
       "</div>"
      ],
      "text/plain": [
       "                       \n",
       "Description  Shapes    \n",
       "Input Data   (7641, 9) \n",
       "Split #1     (2380, 13)\n",
       "Split #2     (1153, 13)\n",
       "Split #3     (692, 13) "
      ]
     },
     "execution_count": 32,
     "metadata": {},
     "output_type": "execute_result"
    }
   ],
   "source": [
    "output = {}\n",
    "output['Description'] = 'Shapes'\n",
    "output['Input Data'] = str(source_df.shape)\n",
    "output['Split #1'] = str( std_1.shape)\n",
    "output['Split #2'] = str( std_2.shape)\n",
    "output['Split #3'] = str( std_3.shape)\n",
    "pd.set_option('display.max_colwidth', -1) \n",
    "pd.DataFrame(data=output, index=['']).T"
   ]
  },
  {
   "cell_type": "markdown",
   "metadata": {},
   "source": [
    "### **Unique Items**"
   ]
  },
  {
   "cell_type": "code",
   "execution_count": 33,
   "metadata": {},
   "outputs": [
    {
     "name": "stdout",
     "output_type": "stream",
     "text": [
      "Total of items:  7641\n",
      "Unique items:  7641\n"
     ]
    }
   ],
   "source": [
    "UniqueItems, len_UniqueItems, x0 = filter_unique(source_df, 'Object ID', 'Unique Items')"
   ]
  },
  {
   "cell_type": "code",
   "execution_count": 34,
   "metadata": {},
   "outputs": [
    {
     "data": {
      "text/html": [
       "<div>\n",
       "<style scoped>\n",
       "    .dataframe tbody tr th:only-of-type {\n",
       "        vertical-align: middle;\n",
       "    }\n",
       "\n",
       "    .dataframe tbody tr th {\n",
       "        vertical-align: top;\n",
       "    }\n",
       "\n",
       "    .dataframe thead th {\n",
       "        text-align: right;\n",
       "    }\n",
       "</style>\n",
       "<table border=\"1\" class=\"dataframe\">\n",
       "  <thead>\n",
       "    <tr style=\"text-align: right;\">\n",
       "      <th></th>\n",
       "      <th>Object ID</th>\n",
       "      <th>Object Type</th>\n",
       "      <th>Object Key</th>\n",
       "      <th>Creation Date</th>\n",
       "      <th>Delivery date</th>\n",
       "      <th>Lead Time</th>\n",
       "      <th>Amount</th>\n",
       "      <th>Currency</th>\n",
       "      <th>Comments</th>\n",
       "      <th>std_US_amount</th>\n",
       "      <th>std US 0-60</th>\n",
       "      <th>std US 61-300</th>\n",
       "      <th>std US 301-600</th>\n",
       "    </tr>\n",
       "  </thead>\n",
       "  <tbody>\n",
       "    <tr>\n",
       "      <th>0</th>\n",
       "      <td>1000160868</td>\n",
       "      <td>Bathroom</td>\n",
       "      <td>13-bath-red</td>\n",
       "      <td>9/6/2021</td>\n",
       "      <td>12/9/2021</td>\n",
       "      <td>94</td>\n",
       "      <td>22400.29</td>\n",
       "      <td>JPY</td>\n",
       "      <td>13-bath-red_Bathroom</td>\n",
       "      <td>191.2593</td>\n",
       "      <td>False</td>\n",
       "      <td>True</td>\n",
       "      <td>False</td>\n",
       "    </tr>\n",
       "    <tr>\n",
       "      <th>1</th>\n",
       "      <td>1086686178</td>\n",
       "      <td>Livingroom</td>\n",
       "      <td>1233-liv-cup</td>\n",
       "      <td>9/30/2021</td>\n",
       "      <td>11/20/2021</td>\n",
       "      <td>51</td>\n",
       "      <td>1360.13</td>\n",
       "      <td>JPY</td>\n",
       "      <td>1233-liv-cup_Livingroom</td>\n",
       "      <td>11.6131</td>\n",
       "      <td>True</td>\n",
       "      <td>False</td>\n",
       "      <td>False</td>\n",
       "    </tr>\n",
       "    <tr>\n",
       "      <th>2</th>\n",
       "      <td>1086686191</td>\n",
       "      <td>Bathroom</td>\n",
       "      <td>13-bath-red</td>\n",
       "      <td>9/30/2021</td>\n",
       "      <td>11/24/2021</td>\n",
       "      <td>55</td>\n",
       "      <td>1126.44</td>\n",
       "      <td>JPY</td>\n",
       "      <td>13-bath-red_Bathroom</td>\n",
       "      <td>9.6178</td>\n",
       "      <td>True</td>\n",
       "      <td>False</td>\n",
       "      <td>False</td>\n",
       "    </tr>\n",
       "  </tbody>\n",
       "</table>\n",
       "</div>"
      ],
      "text/plain": [
       "    Object ID Object Type    Object Key Creation Date Delivery date Lead Time  \\\n",
       "0  1000160868  Bathroom    13-bath-red   9/6/2021      12/9/2021     94         \n",
       "1  1086686178  Livingroom  1233-liv-cup  9/30/2021     11/20/2021    51         \n",
       "2  1086686191  Bathroom    13-bath-red   9/30/2021     11/24/2021    55         \n",
       "\n",
       "     Amount Currency                 Comments  std_US_amount  std US 0-60  \\\n",
       "0  22400.29  JPY      13-bath-red_Bathroom     191.2593       False         \n",
       "1  1360.13   JPY      1233-liv-cup_Livingroom  11.6131        True          \n",
       "2  1126.44   JPY      13-bath-red_Bathroom     9.6178         True          \n",
       "\n",
       "   std US 61-300  std US 301-600  \n",
       "0  True           False           \n",
       "1  False          False           \n",
       "2  False          False           "
      ]
     },
     "execution_count": 34,
     "metadata": {},
     "output_type": "execute_result"
    }
   ],
   "source": [
    "std_curr.head(3)"
   ]
  },
  {
   "cell_type": "markdown",
   "metadata": {},
   "source": [
    "Can be used with group by:"
   ]
  },
  {
   "cell_type": "code",
   "execution_count": null,
   "metadata": {},
   "outputs": [],
   "source": [
    "gb.agg        gb.boxplot    gb.cummin     gb.describe   gb.filter     gb.get_group  gb.height     gb.last       gb.median     gb.ngroups    gb.plot       gb.rank       gb.std        gb.transform\n",
    "gb.aggregate  gb.count      gb.cumprod    gb.dtype      gb.first      gb.groups     gb.hist       gb.max        gb.min        gb.nth        gb.prod       gb.resample   gb.sum        gb.var\n",
    "gb.apply      gb.cummax     gb.cumsum     gb.fillna     gb.gender     gb.head       gb.indices    gb.mean       gb.name       gb.ohlc       gb.quantile   gb.size       gb.tail       gb.weight"
   ]
  },
  {
   "cell_type": "code",
   "execution_count": 35,
   "metadata": {},
   "outputs": [
    {
     "data": {
      "text/plain": [
       "Object ID         int64  \n",
       "Object Type       object \n",
       "Object Key        object \n",
       "Creation Date     object \n",
       "Delivery date     object \n",
       "Lead Time         object \n",
       "Amount            float64\n",
       "Currency          object \n",
       "Comments          object \n",
       "std_US_amount     float64\n",
       "std US 0-60       bool   \n",
       "std US 61-300     bool   \n",
       "std US 301-600    bool   \n",
       "dtype: object"
      ]
     },
     "execution_count": 35,
     "metadata": {},
     "output_type": "execute_result"
    }
   ],
   "source": [
    "std_curr.dtypes"
   ]
  },
  {
   "cell_type": "code",
   "execution_count": 36,
   "metadata": {},
   "outputs": [],
   "source": [
    "std_curr[\"Lead Time\"] = [str(i).replace(\" \", \"\") for i in std_curr[\"Lead Time\"]]"
   ]
  },
  {
   "cell_type": "code",
   "execution_count": 37,
   "metadata": {},
   "outputs": [],
   "source": [
    "std_curr = std_curr.astype({'Lead Time':'int64'})"
   ]
  },
  {
   "cell_type": "code",
   "execution_count": 38,
   "metadata": {},
   "outputs": [],
   "source": [
    "std_curr_with_median = std_curr.groupby(['Object ID','Object Type']).agg(arg={'Lead Time':[('_mean','mean')],'Amount':[('','median')]}).reset_index()"
   ]
  },
  {
   "cell_type": "code",
   "execution_count": 39,
   "metadata": {},
   "outputs": [],
   "source": [
    "std_curr_with_max = std_curr.groupby(['Object ID','Object Type']).agg(arg={'Lead Time':[('_mean','mean')],'Amount':[('','max')]}).reset_index()"
   ]
  },
  {
   "cell_type": "code",
   "execution_count": 40,
   "metadata": {},
   "outputs": [
    {
     "data": {
      "text/html": [
       "<div>\n",
       "<style scoped>\n",
       "    .dataframe tbody tr th:only-of-type {\n",
       "        vertical-align: middle;\n",
       "    }\n",
       "\n",
       "    .dataframe tbody tr th {\n",
       "        vertical-align: top;\n",
       "    }\n",
       "\n",
       "    .dataframe thead tr th {\n",
       "        text-align: left;\n",
       "    }\n",
       "</style>\n",
       "<table border=\"1\" class=\"dataframe\">\n",
       "  <thead>\n",
       "    <tr>\n",
       "      <th></th>\n",
       "      <th>Object ID</th>\n",
       "      <th>Object Type</th>\n",
       "      <th>Lead Time</th>\n",
       "      <th>Amount</th>\n",
       "    </tr>\n",
       "    <tr>\n",
       "      <th></th>\n",
       "      <th></th>\n",
       "      <th></th>\n",
       "      <th>_mean</th>\n",
       "      <th></th>\n",
       "    </tr>\n",
       "  </thead>\n",
       "  <tbody>\n",
       "    <tr>\n",
       "      <th>0</th>\n",
       "      <td>1901968</td>\n",
       "      <td>Kitchen</td>\n",
       "      <td>815</td>\n",
       "      <td>7389.12</td>\n",
       "    </tr>\n",
       "    <tr>\n",
       "      <th>1</th>\n",
       "      <td>1966091</td>\n",
       "      <td>Bedroom</td>\n",
       "      <td>571</td>\n",
       "      <td>23861.69</td>\n",
       "    </tr>\n",
       "    <tr>\n",
       "      <th>2</th>\n",
       "      <td>1966478</td>\n",
       "      <td>Bedroom</td>\n",
       "      <td>5761</td>\n",
       "      <td>10764.38</td>\n",
       "    </tr>\n",
       "  </tbody>\n",
       "</table>\n",
       "</div>"
      ],
      "text/plain": [
       "  Object ID Object Type Lead Time    Amount\n",
       "                            _mean          \n",
       "0  1901968   Kitchen     815       7389.12 \n",
       "1  1966091   Bedroom     571       23861.69\n",
       "2  1966478   Bedroom     5761      10764.38"
      ]
     },
     "execution_count": 40,
     "metadata": {},
     "output_type": "execute_result"
    }
   ],
   "source": [
    "std_curr_with_median.head(3)"
   ]
  },
  {
   "cell_type": "code",
   "execution_count": 41,
   "metadata": {},
   "outputs": [
    {
     "data": {
      "text/html": [
       "<div>\n",
       "<style scoped>\n",
       "    .dataframe tbody tr th:only-of-type {\n",
       "        vertical-align: middle;\n",
       "    }\n",
       "\n",
       "    .dataframe tbody tr th {\n",
       "        vertical-align: top;\n",
       "    }\n",
       "\n",
       "    .dataframe thead tr th {\n",
       "        text-align: left;\n",
       "    }\n",
       "</style>\n",
       "<table border=\"1\" class=\"dataframe\">\n",
       "  <thead>\n",
       "    <tr>\n",
       "      <th></th>\n",
       "      <th>Object ID</th>\n",
       "      <th>Object Type</th>\n",
       "      <th>Lead Time</th>\n",
       "      <th>Amount</th>\n",
       "    </tr>\n",
       "    <tr>\n",
       "      <th></th>\n",
       "      <th></th>\n",
       "      <th></th>\n",
       "      <th>_mean</th>\n",
       "      <th></th>\n",
       "    </tr>\n",
       "  </thead>\n",
       "  <tbody>\n",
       "    <tr>\n",
       "      <th>0</th>\n",
       "      <td>1901968</td>\n",
       "      <td>Kitchen</td>\n",
       "      <td>815</td>\n",
       "      <td>7389.12</td>\n",
       "    </tr>\n",
       "    <tr>\n",
       "      <th>1</th>\n",
       "      <td>1966091</td>\n",
       "      <td>Bedroom</td>\n",
       "      <td>571</td>\n",
       "      <td>23861.69</td>\n",
       "    </tr>\n",
       "    <tr>\n",
       "      <th>2</th>\n",
       "      <td>1966478</td>\n",
       "      <td>Bedroom</td>\n",
       "      <td>5761</td>\n",
       "      <td>10764.38</td>\n",
       "    </tr>\n",
       "  </tbody>\n",
       "</table>\n",
       "</div>"
      ],
      "text/plain": [
       "  Object ID Object Type Lead Time    Amount\n",
       "                            _mean          \n",
       "0  1901968   Kitchen     815       7389.12 \n",
       "1  1966091   Bedroom     571       23861.69\n",
       "2  1966478   Bedroom     5761      10764.38"
      ]
     },
     "execution_count": 41,
     "metadata": {},
     "output_type": "execute_result"
    }
   ],
   "source": [
    "std_curr_with_max.head(3)"
   ]
  },
  {
   "cell_type": "code",
   "execution_count": null,
   "metadata": {},
   "outputs": [],
   "source": [
    "# Export to CSV\n",
    "source_df.to_csv('./Exporting_DataFrame.csv', index=False)    "
   ]
  },
  {
   "cell_type": "markdown",
   "metadata": {},
   "source": [
    "## References"
   ]
  },
  {
   "cell_type": "markdown",
   "metadata": {},
   "source": [
    "[1] From https://stackoverflow.com/questions/8420143/valueerror-could-not-convert-string-to-float-id <br/>\n",
    "[2] From https://www.geeksforgeeks.org/apply-function-to-every-row-in-a-pandas-dataframe/ <br/>\n",
    "[3] From https://data-flair.training/blogs/currency-converter-python/ <br/>"
   ]
  },
  {
   "cell_type": "markdown",
   "metadata": {},
   "source": [
    "# END"
   ]
  }
 ],
 "metadata": {
  "kernelspec": {
   "display_name": "Python 3.6 - AzureML",
   "language": "python",
   "name": "python3-azureml"
  },
  "language_info": {
   "codemirror_mode": {
    "name": "ipython",
    "version": 3
   },
   "file_extension": ".py",
   "mimetype": "text/x-python",
   "name": "python",
   "nbconvert_exporter": "python",
   "pygments_lexer": "ipython3",
   "version": "3.6.9"
  }
 },
 "nbformat": 4,
 "nbformat_minor": 4
}
