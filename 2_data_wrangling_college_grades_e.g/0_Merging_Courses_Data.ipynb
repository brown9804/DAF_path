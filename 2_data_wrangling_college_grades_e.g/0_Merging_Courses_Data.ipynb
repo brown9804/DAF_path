{
 "cells": [
  {
   "cell_type": "code",
   "execution_count": 1,
   "metadata": {},
   "outputs": [],
   "source": [
    "import pandas as pd\n",
    "import numpy as np"
   ]
  },
  {
   "cell_type": "markdown",
   "metadata": {},
   "source": [
    "## Definitions"
   ]
  },
  {
   "cell_type": "code",
   "execution_count": 2,
   "metadata": {},
   "outputs": [],
   "source": [
    "# read, and create an identifier for each course  \n",
    "def set_course_name(file_path, course_name):\n",
    "    course_data = pd.read_csv(file_path, header='infer')\n",
    "    course_data[\"Course Name\"] = course_name\n",
    "    print(course_data.tail(2))\n",
    "    return course_data"
   ]
  },
  {
   "cell_type": "code",
   "execution_count": 3,
   "metadata": {},
   "outputs": [],
   "source": [
    "def merging_df(dataframes_list):\n",
    "    merged_df = pd.concat(dataframes_list)\n",
    "    print(merged_df.shape)\n",
    "    print(merged_df.tail(10))\n",
    "    return merged_df"
   ]
  },
  {
   "cell_type": "markdown",
   "metadata": {},
   "source": [
    "## Import information"
   ]
  },
  {
   "cell_type": "markdown",
   "metadata": {},
   "source": [
    "### Math Course"
   ]
  },
  {
   "cell_type": "code",
   "execution_count": 4,
   "metadata": {},
   "outputs": [
    {
     "name": "stdout",
     "output_type": "stream",
     "text": [
      "  Student Name   Student Contact  Grade Course Name\n",
      "2         Mark    mark@gmail.com     90        Math\n",
      "3        Shane   shane@gmail.com     87        Math\n"
     ]
    }
   ],
   "source": [
    "math_data = set_course_name(\"./_data/math_course_data.csv\", \"Math\")"
   ]
  },
  {
   "cell_type": "markdown",
   "metadata": {},
   "source": [
    "### Biology Course"
   ]
  },
  {
   "cell_type": "code",
   "execution_count": 5,
   "metadata": {},
   "outputs": [
    {
     "name": "stdout",
     "output_type": "stream",
     "text": [
      "  Student Name   Student Contact  Grade Course Name\n",
      "2         Mark    mark@gmail.com     90     Biology\n",
      "3        Shane   shane@gmail.com     95     Biology\n"
     ]
    }
   ],
   "source": [
    "biology_data = set_course_name(\"./_data/biology_course_data.csv\", \"Biology\")"
   ]
  },
  {
   "cell_type": "markdown",
   "metadata": {},
   "source": [
    "### Chemistry Course"
   ]
  },
  {
   "cell_type": "code",
   "execution_count": 6,
   "metadata": {},
   "outputs": [
    {
     "name": "stdout",
     "output_type": "stream",
     "text": [
      "  Student Name   Student Contact  Grade Course Name\n",
      "2         Mark    mark@gmail.com     58   Chemistry\n",
      "3        Shane   shane@gmail.com     74   Chemistry\n"
     ]
    }
   ],
   "source": [
    "chemistry_data = set_course_name(\"./_data/chemistry_course_data.csv\", \"Chemistry\")"
   ]
  },
  {
   "cell_type": "markdown",
   "metadata": {},
   "source": [
    "## Merging Sessions Information"
   ]
  },
  {
   "cell_type": "code",
   "execution_count": 7,
   "metadata": {},
   "outputs": [],
   "source": [
    "courses = [math_data, biology_data, chemistry_data]"
   ]
  },
  {
   "cell_type": "code",
   "execution_count": 8,
   "metadata": {},
   "outputs": [
    {
     "name": "stdout",
     "output_type": "stream",
     "text": [
      "(12, 4)\n",
      "  Student Name     Student Contact  Grade Course Name\n",
      "2         Mark      mark@gmail.com     90        Math\n",
      "3        Shane     shane@gmail.com     87        Math\n",
      "0            Al       al@gmail.com     90     Biology\n",
      "1       Dominic  dominic@gmail.com     90     Biology\n",
      "2         Mark      mark@gmail.com     90     Biology\n",
      "3        Shane     shane@gmail.com     95     Biology\n",
      "0            Al       al@gmail.com     80   Chemistry\n",
      "1       Dominic  dominic@gmail.com     56   Chemistry\n",
      "2         Mark      mark@gmail.com     58   Chemistry\n",
      "3        Shane     shane@gmail.com     74   Chemistry\n"
     ]
    }
   ],
   "source": [
    "merged_info = merging_df(courses)"
   ]
  },
  {
   "cell_type": "markdown",
   "metadata": {},
   "source": [
    "## Exporting Data"
   ]
  },
  {
   "cell_type": "code",
   "execution_count": 9,
   "metadata": {},
   "outputs": [],
   "source": [
    "merged_info .to_csv(path_or_buf='./_output/0_unified_courses_data.csv', index=False)"
   ]
  },
  {
   "cell_type": "markdown",
   "metadata": {},
   "source": [
    "## END"
   ]
  }
 ],
 "metadata": {
  "kernelspec": {
   "display_name": "Python 3.6 - AzureML",
   "language": "python",
   "name": "python3-azureml"
  },
  "language_info": {
   "codemirror_mode": {
    "name": "ipython",
    "version": 3
   },
   "file_extension": ".py",
   "mimetype": "text/x-python",
   "name": "python",
   "nbconvert_exporter": "python",
   "pygments_lexer": "ipython3",
   "version": "3.6.9"
  }
 },
 "nbformat": 4,
 "nbformat_minor": 4
}
